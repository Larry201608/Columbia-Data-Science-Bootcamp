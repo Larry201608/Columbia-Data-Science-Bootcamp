{
 "cells": [
  {
   "cell_type": "markdown",
   "metadata": {},
   "source": [
    "## Introduction to Exploratory Data Analysis and Visualization\n",
    "\n",
    "In this lab, we will cover some basic EDAV tools and provide an example using _presidential speeches_."
   ]
  },
  {
   "cell_type": "markdown",
   "metadata": {},
   "source": [
    "<a id=\"part1\"></a>\n",
    "## Part 1: Simple summaries and graphs\n",
    "\n",
    "This part of the lab was based on data set 1 from the [1st collaboratory boot camp during winter 2016-2017](https://github.com/DS-BootCamp-Collaboratory-Columbia/AY2016-2017-Winter). "
   ]
  },
  {
   "cell_type": "markdown",
   "metadata": {},
   "source": [
    "Data set: 2016 Presidential Election Results (Manually constructed using various online resources.)\n",
    "\n",
    "We'll look at three sets of data collected from the 51 states. They include:\n",
    "\n",
    "1. 2016 Presidential election results\n",
    "2. 2015 Median annual hosehold income\n",
    "3. 2015 Monthly average number of person participating in the the food stamp program\n",
    "\n",
    "Across the states, we'll summarize basic statistics and study the relationship among variables."
   ]
  },
  {
   "cell_type": "code",
   "execution_count": 2,
   "metadata": {},
   "outputs": [],
   "source": [
    "import numpy as np\n",
    "import pandas as pd\n",
    "import matplotlib.pyplot as plt\n",
    "\n",
    "elec_data = pd.read_csv('../data/2016_election_data/2016_presidential_election_results.tsv', delimiter='\\t')\n",
    "fs_data = pd.read_csv('../data/2016_election_data/2015_monthly_average_of_person_participating_in_food_stamp_program.tsv', delimiter='\\t')\n",
    "income_data = pd.read_csv('../data/2016_election_data/2015_median_annual_hosehold_income.tsv', delimiter='\\t')"
   ]
  },
  {
   "cell_type": "markdown",
   "metadata": {},
   "source": [
    "We'll also load two auxilary collections that will help us obtain better statistics and will also help us to better visualize the data. They are:\n",
    "\n",
    "* 2015 Population across states\n",
    "* State Abbreviations"
   ]
  },
  {
   "cell_type": "code",
   "execution_count": 3,
   "metadata": {},
   "outputs": [],
   "source": [
    "sa = pd.read_csv('../data/2016_election_data/state_abbreviations.tsv', delimiter='\\t')\n",
    "census_data = pd.read_csv('../data/2016_election_data/population_by_state.tsv', delimiter='\\t')"
   ]
  },
  {
   "cell_type": "code",
   "execution_count": 20,
   "metadata": {},
   "outputs": [
    {
     "data": {
      "text/html": [
       "<div>\n",
       "<style scoped>\n",
       "    .dataframe tbody tr th:only-of-type {\n",
       "        vertical-align: middle;\n",
       "    }\n",
       "\n",
       "    .dataframe tbody tr th {\n",
       "        vertical-align: top;\n",
       "    }\n",
       "\n",
       "    .dataframe thead th {\n",
       "        text-align: right;\n",
       "    }\n",
       "</style>\n",
       "<table border=\"1\" class=\"dataframe\">\n",
       "  <thead>\n",
       "    <tr style=\"text-align: right;\">\n",
       "      <th></th>\n",
       "      <th>State</th>\n",
       "      <th>Sum</th>\n",
       "      <th>Dem_EV</th>\n",
       "      <th>Rep_EV</th>\n",
       "      <th>Unalloc_EV</th>\n",
       "      <th>Clinton</th>\n",
       "      <th>Trump</th>\n",
       "      <th>Johnson</th>\n",
       "      <th>Other</th>\n",
       "      <th>Participation</th>\n",
       "      <th>Median_Income</th>\n",
       "      <th>Abbr</th>\n",
       "      <th>Population</th>\n",
       "      <th>Trump_perc</th>\n",
       "      <th>fs_perc</th>\n",
       "      <th>vote_perc</th>\n",
       "      <th>Trump_win</th>\n",
       "    </tr>\n",
       "  </thead>\n",
       "  <tbody>\n",
       "    <tr>\n",
       "      <th>0</th>\n",
       "      <td>Alabama</td>\n",
       "      <td>2123372</td>\n",
       "      <td>0</td>\n",
       "      <td>9</td>\n",
       "      <td>0</td>\n",
       "      <td>729547</td>\n",
       "      <td>1318255</td>\n",
       "      <td>44467</td>\n",
       "      <td>31103</td>\n",
       "      <td>889380</td>\n",
       "      <td>44509</td>\n",
       "      <td>AL</td>\n",
       "      <td>4863300</td>\n",
       "      <td>0.630060</td>\n",
       "      <td>0.182876</td>\n",
       "      <td>0.430216</td>\n",
       "      <td>True</td>\n",
       "    </tr>\n",
       "    <tr>\n",
       "      <th>1</th>\n",
       "      <td>Alaska</td>\n",
       "      <td>318608</td>\n",
       "      <td>0</td>\n",
       "      <td>3</td>\n",
       "      <td>0</td>\n",
       "      <td>116454</td>\n",
       "      <td>163387</td>\n",
       "      <td>18725</td>\n",
       "      <td>20042</td>\n",
       "      <td>81121</td>\n",
       "      <td>75112</td>\n",
       "      <td>AK</td>\n",
       "      <td>738432</td>\n",
       "      <td>0.547239</td>\n",
       "      <td>0.109856</td>\n",
       "      <td>0.404324</td>\n",
       "      <td>True</td>\n",
       "    </tr>\n",
       "    <tr>\n",
       "      <th>2</th>\n",
       "      <td>Arizona</td>\n",
       "      <td>2604657</td>\n",
       "      <td>0</td>\n",
       "      <td>11</td>\n",
       "      <td>0</td>\n",
       "      <td>1161167</td>\n",
       "      <td>1252401</td>\n",
       "      <td>106327</td>\n",
       "      <td>84762</td>\n",
       "      <td>999401</td>\n",
       "      <td>52248</td>\n",
       "      <td>AZ</td>\n",
       "      <td>6931071</td>\n",
       "      <td>0.497005</td>\n",
       "      <td>0.144191</td>\n",
       "      <td>0.363565</td>\n",
       "      <td>True</td>\n",
       "    </tr>\n",
       "    <tr>\n",
       "      <th>3</th>\n",
       "      <td>Arkansas</td>\n",
       "      <td>1130635</td>\n",
       "      <td>0</td>\n",
       "      <td>6</td>\n",
       "      <td>0</td>\n",
       "      <td>380494</td>\n",
       "      <td>684872</td>\n",
       "      <td>29829</td>\n",
       "      <td>35440</td>\n",
       "      <td>468904</td>\n",
       "      <td>42798</td>\n",
       "      <td>AR</td>\n",
       "      <td>2988248</td>\n",
       "      <td>0.625343</td>\n",
       "      <td>0.156916</td>\n",
       "      <td>0.366501</td>\n",
       "      <td>True</td>\n",
       "    </tr>\n",
       "    <tr>\n",
       "      <th>4</th>\n",
       "      <td>California</td>\n",
       "      <td>14237884</td>\n",
       "      <td>55</td>\n",
       "      <td>0</td>\n",
       "      <td>0</td>\n",
       "      <td>8753788</td>\n",
       "      <td>4483810</td>\n",
       "      <td>478500</td>\n",
       "      <td>521786</td>\n",
       "      <td>4417772</td>\n",
       "      <td>63636</td>\n",
       "      <td>CA</td>\n",
       "      <td>39250017</td>\n",
       "      <td>0.326901</td>\n",
       "      <td>0.112555</td>\n",
       "      <td>0.349455</td>\n",
       "      <td>False</td>\n",
       "    </tr>\n",
       "  </tbody>\n",
       "</table>\n",
       "</div>"
      ],
      "text/plain": [
       "        State       Sum  Dem_EV  Rep_EV  Unalloc_EV  Clinton    Trump  \\\n",
       "0     Alabama   2123372       0       9           0   729547  1318255   \n",
       "1      Alaska    318608       0       3           0   116454   163387   \n",
       "2     Arizona   2604657       0      11           0  1161167  1252401   \n",
       "3    Arkansas   1130635       0       6           0   380494   684872   \n",
       "4  California  14237884      55       0           0  8753788  4483810   \n",
       "\n",
       "   Johnson   Other  Participation  Median_Income Abbr  Population  Trump_perc  \\\n",
       "0    44467   31103         889380          44509   AL     4863300    0.630060   \n",
       "1    18725   20042          81121          75112   AK      738432    0.547239   \n",
       "2   106327   84762         999401          52248   AZ     6931071    0.497005   \n",
       "3    29829   35440         468904          42798   AR     2988248    0.625343   \n",
       "4   478500  521786        4417772          63636   CA    39250017    0.326901   \n",
       "\n",
       "    fs_perc  vote_perc  Trump_win  \n",
       "0  0.182876   0.430216       True  \n",
       "1  0.109856   0.404324       True  \n",
       "2  0.144191   0.363565       True  \n",
       "3  0.156916   0.366501       True  \n",
       "4  0.112555   0.349455      False  "
      ]
     },
     "execution_count": 20,
     "metadata": {},
     "output_type": "execute_result"
    }
   ],
   "source": [
    "# Merge datasets into one dataframe.\n",
    "\n",
    "df=pd.merge(elec_data, fs_data, on='State')\n",
    "df=pd.merge(df, income_data, on=\"State\")\n",
    "df=pd.merge(df, sa, on=\"State\")\n",
    "df=pd.merge(df, census_data, on=\"State\")\n",
    "\n",
    "df['Trump_perc']=df['Trump']/(df['Clinton']+df['Trump']+df['Johnson'])\n",
    "df['fs_perc']=df['Participation']/df['Population']\n",
    "df['vote_perc']=(df['Clinton']+df['Trump']+df['Johnson'])/df['Population']\n",
    "df['Trump_win']=(df['Trump']>df['Clinton'])\n",
    "\n",
    "df.head(n=5)"
   ]
  },
  {
   "cell_type": "markdown",
   "metadata": {},
   "source": [
    "We first look at the distribution of food stamp percents. "
   ]
  },
  {
   "cell_type": "code",
   "execution_count": 22,
   "metadata": {},
   "outputs": [
    {
     "data": {
      "image/png": "[encoded data removed]",
      "text/plain": [
       "<matplotlib.figure.Figure at 0x7f66a2b9dfd0>"
      ]
     },
     "metadata": {},
     "output_type": "display_data"
    }
   ],
   "source": [
    "df.fs_perc.astype(float).plot('hist', alpha=0.5)\n",
    "\n",
    "fs_mean = np.mean(df.fs_perc.astype(float))\n",
    "plt.title('Histogram of Food Stamp Percent: mean ='+format(fs_mean, '.3f'))\n",
    "plt.show()"
   ]
  },
  {
   "cell_type": "markdown",
   "metadata": {},
   "source": [
    "###  Task 1\n",
    "\n",
    "Add [standard deviation](https://docs.scipy.org/doc/numpy-1.13.0/reference/generated/numpy.std.html) to the title of the histogram. \n"
   ]
  },
  {
   "cell_type": "code",
   "execution_count": 21,
   "metadata": {
    "scrolled": true
   },
   "outputs": [
    {
     "data": {
      "image/png": "[encoded data removed]",
      "text/plain": [
       "<matplotlib.figure.Figure at 0x7f66a3200198>"
      ]
     },
     "metadata": {},
     "output_type": "display_data"
    }
   ],
   "source": [
    "df.fs_perc.astype(float).plot('hist', alpha=0.5)\n",
    "fs_std = np.std(df.fs_perc.astype(float))\n",
    "plt.title('Histogram of Food Stamp Percent: mean ='+format(fs_mean, '.3f')+' std = '+format(fs_std, '.3f'))\n",
    "plt.show()"
   ]
  },
  {
   "cell_type": "markdown",
   "metadata": {},
   "source": [
    "The following visualization uses [plot.ly](https://plot.ly/python/getting-started/) (a powerful interactive visualization tool). Please click on the link and install plot.ly's python package. "
   ]
  },
  {
   "cell_type": "markdown",
   "metadata": {},
   "source": [
    "### Task 2\n",
    "Follow the instruction from [plot.ly](https://plot.ly/python/getting-started/) to setup free account and API credentials. "
   ]
  },
  {
   "cell_type": "code",
   "execution_count": 6,
   "metadata": {},
   "outputs": [],
   "source": [
    "import plotly.plotly as py"
   ]
  },
  {
   "cell_type": "code",
   "execution_count": 25,
   "metadata": {
    "scrolled": false
   },
   "outputs": [
    {
     "name": "stdout",
     "output_type": "stream",
     "text": [
      "High five! You successfully sent some data to your account on plotly. View your plot in your browser at https://plot.ly/~iHyDJULgqVAiinjG/0 or inside your plot.ly account where it is named 'd3-cloropleth-map'\n"
     ]
    },
    {
     "data": {
      "text/html": [
       "<iframe id=\"igraph\" scrolling=\"no\" style=\"border:none;\" seamless=\"seamless\" src=\"https://plot.ly/~iHyDJULgqVAiinjG/0.embed\" height=\"525px\" width=\"100%\"></iframe>"
      ],
      "text/plain": [
       "<plotly.tools.PlotlyDisplay object>"
      ]
     },
     "execution_count": 25,
     "metadata": {},
     "output_type": "execute_result"
    }
   ],
   "source": [
    "for col in df.columns:\n",
    "    df[col] = df[col].astype(str)\n",
    "\n",
    "scl = [[0.0, 'rgb(242,240,247)'],[0.2, 'rgb(218,218,235)'],[0.4, 'rgb(188,189,220)'],\\\n",
    "            [0.6, 'rgb(158,154,200)'],[0.8, 'rgb(117,107,177)'],[1.0, 'rgb(84,39,143)']]\n",
    "\n",
    "df['text'] = df['State'] + '<br>' +\\\n",
    "    'Population '+df['Population']+'<br>'+\\\n",
    "    'Med. Income '+df['Median_Income']+'<br>'+\\\n",
    "    'Food stamp participation '+ df['fs_perc']+'<br>'+\\\n",
    "    'Voted for Trump ' + df['Trump_perc']+'<br>'+\\\n",
    "    'Voter turn out '+df['vote_perc']+'<br>'+\\\n",
    "    'Trump win '+df['Trump_win']\n",
    "\n",
    "data = [ dict(\n",
    "        type='choropleth',\n",
    "        colorscale = scl,\n",
    "        autocolorscale = False,\n",
    "        locations = df['Abbr'],\n",
    "        z = df['Trump_perc'].astype(float),\n",
    "        locationmode = 'USA-states',\n",
    "        text = df['text'],\n",
    "        marker = dict(\n",
    "            line = dict (\n",
    "                color = 'rgb(255,255,255)',\n",
    "                width = 2\n",
    "            ) ),\n",
    "        colorbar = dict(\n",
    "            title = \"Fraction of votes for Trump\")\n",
    "        ) ]\n",
    "\n",
    "layout = dict(\n",
    "        title = '2016 US General Election Results by State<br>(Hover for more stats)',\n",
    "        geo = dict(\n",
    "            scope='usa',\n",
    "            projection=dict( type='albers usa' ),\n",
    "            showlakes = True,\n",
    "            lakecolor = 'rgb(255, 255, 255)'),\n",
    "             )\n",
    "    \n",
    "fig = dict( data=data, layout=layout )\n",
    "py.iplot( fig, filename='d3-cloropleth-map' )"
   ]
  },
  {
   "cell_type": "markdown",
   "metadata": {},
   "source": [
    "### Task 3\n",
    "Now, you try visualize a map of the voter turn out. "
   ]
  },
  {
   "cell_type": "code",
   "execution_count": 35,
   "metadata": {
    "scrolled": false
   },
   "outputs": [
    {
     "name": "stdout",
     "output_type": "stream",
     "text": [
      "High five! You successfully sent some data to your account on plotly. View your plot in your browser at https://plot.ly/~iHyDJULgqVAiinjG/0 or inside your plot.ly account where it is named 'd3-cloropleth-map'\n"
     ]
    },
    {
     "data": {
      "text/html": [
       "<iframe id=\"igraph\" scrolling=\"no\" style=\"border:none;\" seamless=\"seamless\" src=\"https://plot.ly/~iHyDJULgqVAiinjG/0.embed\" height=\"525px\" width=\"100%\"></iframe>"
      ],
      "text/plain": [
       "<plotly.tools.PlotlyDisplay object>"
      ]
     },
     "execution_count": 35,
     "metadata": {},
     "output_type": "execute_result"
    }
   ],
   "source": [
    "for col in df.columns:\n",
    "    df[col] = df[col].astype(str)\n",
    "\n",
    "scl = [[0.0, 'rgb(242,240,247)'],[0.2, 'rgb(218,218,235)'],[0.4, 'rgb(188,189,220)'],\\\n",
    "            [0.6, 'rgb(158,154,200)'],[0.8, 'rgb(117,107,177)'],[1.0, 'rgb(84,39,143)']]\n",
    "\n",
    "df['text'] = df['State'] + '<br>' +\\\n",
    "    'Population '+df['Population']+'<br>'+\\\n",
    "    'Med. Income '+df['Median_Income']+'<br>'+\\\n",
    "    'Food stamp participation '+ df['fs_perc']+'<br>'+\\\n",
    "    'Voted for Trump ' + df['Trump_perc']+'<br>'+\\\n",
    "    'Voter turn out '+df['vote_perc']+'<br>'+\\\n",
    "    'Trump win '+df['Trump_win']\n",
    "\n",
    "data = [ dict(\n",
    "        type='choropleth',\n",
    "        colorscale = scl,\n",
    "        autocolorscale = False,\n",
    "        locations = df['Abbr'],\n",
    "        z = df['vote_perc'].astype(float),\n",
    "        locationmode = 'USA-states',\n",
    "        text = df['text'],\n",
    "        marker = dict(\n",
    "            line = dict (\n",
    "                color = 'rgb(255,255,255)',\n",
    "                width = 2\n",
    "            ) ),\n",
    "        colorbar = dict(\n",
    "            title = \"Fraction of voter turnout\")\n",
    "        ) ]\n",
    "\n",
    "i\n",
    "        title = '2016 US Voter Turnout by State<br>(Hover for more stats)',\n",
    "        geo = dict(\n",
    "            scope='usa',\n",
    "            projection=dict( type='albers usa' ),\n",
    "            showlakes = True,\n",
    "            lakecolor = 'rgb(255, 255, 255)'),\n",
    "             )\n",
    "    \n",
    "fig = dict( data=data, layout=layout )\n",
    "py.iplot( fig, filename='d3-cloropleth-map' )"
   ]
  },
  {
   "cell_type": "markdown",
   "metadata": {},
   "source": [
    "Now let's look at some associations. "
   ]
  },
  {
   "cell_type": "code",
   "execution_count": 8,
   "metadata": {
    "scrolled": true
   },
   "outputs": [
    {
     "data": {
      "image/png": "[encoded data removed]",
      "text/plain": [
       "<matplotlib.figure.Figure at 0x7f66ab1f3d30>"
      ]
     },
     "metadata": {},
     "output_type": "display_data"
    }
   ],
   "source": [
    "import seaborn as sns\n",
    "\n",
    "ax = sns.boxplot(x=df.Trump_win, y=df.Median_Income.astype(float))\n",
    "ax = sns.swarmplot(x=df.Trump_win, y=df.Median_Income.astype(float), color=\".25\")\n",
    "\n",
    "ax.set_title('Median Income by election outcome')\n",
    "\n",
    "plt.show()"
   ]
  },
  {
   "cell_type": "markdown",
   "metadata": {},
   "source": [
    "### Task 4\n",
    "We can also use plot.ly for boxplots. Follow the instruction and reproduce the boxplots above. "
   ]
  },
  {
   "cell_type": "code",
   "execution_count": 76,
   "metadata": {},
   "outputs": [
    {
     "data": {
      "text/html": [
       "<iframe id=\"igraph\" scrolling=\"no\" style=\"border:none;\" seamless=\"seamless\" src=\"https://plot.ly/~iHyDJULgqVAiinjG/22.embed\" height=\"525px\" width=\"100%\"></iframe>"
      ],
      "text/plain": [
       "<plotly.tools.PlotlyDisplay object>"
      ]
     },
     "execution_count": 76,
     "metadata": {},
     "output_type": "execute_result"
    }
   ],
   "source": [
    "import plotly.graph_objs as go\n",
    "\n",
    "y1_data = []\n",
    "y2_data = []\n",
    "for i in range(0,len(df.Trump_win)):\n",
    "    if(df.Trump_win[i] == \"True\"):\n",
    "        y1_data.append(df.Median_Income[i])\n",
    "    else:\n",
    "        y2_data.append(df.Median_Income[i])\n",
    "\n",
    "trace0 = go.Box(\n",
    "    y=y1_data,\n",
    "    boxpoints='all',\n",
    "    name=\"True\"\n",
    ")\n",
    "trace1 = go.Box(\n",
    "    y=y2_data,\n",
    "    boxpoints='all',\n",
    "    name=\"False\"\n",
    ")\n",
    "\n",
    "data = [trace0, trace1]\n",
    "layout = dict(\n",
    "        xaxis = dict(title = \"Trump Wins\"),\n",
    "        yaxis = dict(title = \"Median Income\"))\n",
    "py.iplot(dict(data=data,layout=layout))"
   ]
  },
  {
   "cell_type": "code",
   "execution_count": 9,
   "metadata": {
    "scrolled": true
   },
   "outputs": [
    {
     "data": {
      "image/png": "[encoded data removed]",
      "text/plain": [
       "<matplotlib.figure.Figure at 0x7f66ab1f31d0>"
      ]
     },
     "metadata": {},
     "output_type": "display_data"
    }
   ],
   "source": [
    "fig, ax = plt.subplots()\n",
    "ax.scatter(df.fs_perc.astype(float), df.Trump_perc.astype(float))\n",
    "\n",
    "ax.set_title('Food stamp percent versus Trump support')\n",
    "ax.set_xlabel('Food stamp percent')\n",
    "ax.set_ylabel('Trump support')\n",
    "\n",
    "for i, txt in enumerate(df.Abbr):\n",
    "    ax.annotate(txt, (df.fs_perc.astype(float)[i],df.Trump_perc.astype(float)[i]))\n",
    "\n",
    "plt.show()"
   ]
  },
  {
   "cell_type": "markdown",
   "metadata": {},
   "source": [
    "### Task 5\n",
    "\n",
    "Make a new plot using this data set following one example from [Matplotlib Gallery](https://matplotlib.org/gallery/index.html)."
   ]
  },
  {
   "cell_type": "code",
   "execution_count": 93,
   "metadata": {},
   "outputs": [
    {
     "data": {
      "image/png": "[encoded data removed]",
      "text/plain": [
       "<matplotlib.figure.Figure at 0x7f66a2b886d8>"
      ]
     },
     "metadata": {},
     "output_type": "display_data"
    }
   ],
   "source": [
    "import matplotlib.pyplot\n",
    "import pylab\n",
    "\n",
    "y = df.Trump_perc\n",
    "x = df.fs_perc\n",
    "\n",
    "matplotlib.pyplot.xlabel(\"Food Stamp Fraction\")\n",
    "matplotlib.pyplot.ylabel(\"Trump Support Fraction\")\n",
    "\n",
    "matplotlib.pyplot.scatter(x,y)\n",
    "for label, x1, y1 in zip(df.Abbr, x, y):\n",
    "    plt.annotate(label, xy=(x1, y1), xytext=(-10, 10), textcoords='offset points')\n",
    "matplotlib.pyplot.show()"
   ]
  },
  {
   "cell_type": "code",
   "execution_count": null,
   "metadata": {},
   "outputs": [],
   "source": []
  }
 ],
 "metadata": {
  "anaconda-cloud": {},
  "kernelspec": {
   "display_name": "Python 3",
   "language": "python3",
   "name": "python3"
  },
  "language_info": {
   "codemirror_mode": {
    "name": "ipython",
    "version": 3
   },
   "file_extension": ".py",
   "mimetype": "text/x-python",
   "name": "python",
   "nbconvert_exporter": "python",
   "pygments_lexer": "ipython3",
   "version": "3.6.4"
  }
 },
 "nbformat": 4,
 "nbformat_minor": 2
}
