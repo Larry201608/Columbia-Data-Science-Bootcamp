{
 "cells": [
  {
   "cell_type": "markdown",
   "metadata": {},
   "source": [
    "# Working with Text data"
   ]
  },
  {
   "cell_type": "code",
   "execution_count": 1,
   "metadata": {},
   "outputs": [],
   "source": [
    "import numpy as np\n",
    "import matplotlib.pyplot as plt\n",
    "% matplotlib inline"
   ]
  },
  {
   "cell_type": "markdown",
   "metadata": {},
   "source": [
    "#### Applying bag-of-words to a toy dataset"
   ]
  },
  {
   "cell_type": "code",
   "execution_count": 2,
   "metadata": {},
   "outputs": [],
   "source": [
    "bards_words = [\"The fool doth think he is wise,\", \"but the wise man knows himself to be a fool\"]"
   ]
  },
  {
   "cell_type": "code",
   "execution_count": 3,
   "metadata": {},
   "outputs": [
    {
     "data": {
      "text/plain": [
       "CountVectorizer(analyzer='word', binary=False, decode_error='strict',\n",
       "        dtype=<class 'numpy.int64'>, encoding='utf-8', input='content',\n",
       "        lowercase=True, max_df=1.0, max_features=None, min_df=1,\n",
       "        ngram_range=(1, 1), preprocessor=None, stop_words=None,\n",
       "        strip_accents=None, token_pattern='(?u)\\\\b\\\\w\\\\w+\\\\b',\n",
       "        tokenizer=None, vocabulary=None)"
      ]
     },
     "execution_count": 3,
     "metadata": {},
     "output_type": "execute_result"
    }
   ],
   "source": [
    "from sklearn.feature_extraction.text import CountVectorizer\n",
    "vect = CountVectorizer()\n",
    "vect.fit(bards_words)"
   ]
  },
  {
   "cell_type": "code",
   "execution_count": 4,
   "metadata": {},
   "outputs": [
    {
     "name": "stdout",
     "output_type": "stream",
     "text": [
      "Vocabulary size: 13\n",
      "Vocabulary content:\n",
      " {'the': 9, 'fool': 3, 'doth': 2, 'think': 10, 'he': 4, 'is': 6, 'wise': 12, 'but': 1, 'man': 8, 'knows': 7, 'himself': 5, 'to': 11, 'be': 0}\n"
     ]
    }
   ],
   "source": [
    "print(\"Vocabulary size: {}\".format(len(vect.vocabulary_)))\n",
    "print(\"Vocabulary content:\\n {}\".format(vect.vocabulary_))"
   ]
  },
  {
   "cell_type": "code",
   "execution_count": 5,
   "metadata": {},
   "outputs": [
    {
     "name": "stdout",
     "output_type": "stream",
     "text": [
      "bag_of_words: <2x13 sparse matrix of type '<class 'numpy.int64'>'\n",
      "\twith 16 stored elements in Compressed Sparse Row format>\n"
     ]
    }
   ],
   "source": [
    "bag_of_words = vect.transform(bards_words)\n",
    "print(\"bag_of_words: {}\".format(repr(bag_of_words)))"
   ]
  },
  {
   "cell_type": "code",
   "execution_count": 6,
   "metadata": {},
   "outputs": [
    {
     "name": "stdout",
     "output_type": "stream",
     "text": [
      "Dense representation of bag_of_words:\n",
      "[[0 0 1 1 1 0 1 0 0 1 1 0 1]\n",
      " [1 1 0 1 0 1 0 1 1 1 0 1 1]]\n"
     ]
    }
   ],
   "source": [
    "print(\"Dense representation of bag_of_words:\\n{}\".format(\n",
    "      bag_of_words.toarray()))"
   ]
  },
  {
   "cell_type": "code",
   "execution_count": 7,
   "metadata": {},
   "outputs": [
    {
     "data": {
      "text/plain": [
       "['be',\n",
       " 'but',\n",
       " 'doth',\n",
       " 'fool',\n",
       " 'he',\n",
       " 'himself',\n",
       " 'is',\n",
       " 'knows',\n",
       " 'man',\n",
       " 'the',\n",
       " 'think',\n",
       " 'to',\n",
       " 'wise']"
      ]
     },
     "execution_count": 7,
     "metadata": {},
     "output_type": "execute_result"
    }
   ],
   "source": [
    "vect.get_feature_names()"
   ]
  },
  {
   "cell_type": "code",
   "execution_count": 8,
   "metadata": {},
   "outputs": [
    {
     "data": {
      "text/plain": [
       "[array(['doth', 'fool', 'he', 'is', 'the', 'think', 'wise'], dtype='<U7'),\n",
       " array(['be', 'but', 'fool', 'himself', 'knows', 'man', 'the', 'to',\n",
       "        'wise'], dtype='<U7')]"
      ]
     },
     "execution_count": 8,
     "metadata": {},
     "output_type": "execute_result"
    }
   ],
   "source": [
    "vect.inverse_transform(bag_of_words)"
   ]
  },
  {
   "cell_type": "markdown",
   "metadata": {},
   "source": [
    "### Task 1\n",
    "Compute bigrams and trigrams of words as well. How does that change the vocabulary size? How would you imagine this changes the vocabulary size in a real application?"
   ]
  },
  {
   "cell_type": "code",
   "execution_count": 9,
   "metadata": {},
   "outputs": [
    {
     "name": "stdout",
     "output_type": "stream",
     "text": [
      "Vocabulary size: 39\n",
      "Vocabulary content:\n",
      " {'the': 25, 'fool': 8, 'doth': 5, 'think': 30, 'he': 11, 'is': 17, 'wise': 36, 'the fool': 26, 'fool doth': 9, 'doth think': 6, 'think he': 31, 'he is': 12, 'is wise': 18, 'the fool doth': 27, 'fool doth think': 10, 'doth think he': 7, 'think he is': 32, 'he is wise': 13, 'but': 2, 'man': 22, 'knows': 19, 'himself': 14, 'to': 33, 'be': 0, 'but the': 3, 'the wise': 28, 'wise man': 37, 'man knows': 23, 'knows himself': 20, 'himself to': 15, 'to be': 34, 'be fool': 1, 'but the wise': 4, 'the wise man': 29, 'wise man knows': 38, 'man knows himself': 24, 'knows himself to': 21, 'himself to be': 16, 'to be fool': 35}\n"
     ]
    }
   ],
   "source": [
    "bvect = CountVectorizer(ngram_range=(1, 3))\n",
    "bvect.fit(bards_words)\n",
    "print(\"Vocabulary size: {}\".format(len(bvect.vocabulary_)))\n",
    "print(\"Vocabulary content:\\n {}\".format(bvect.vocabulary_))"
   ]
  },
  {
   "cell_type": "markdown",
   "metadata": {},
   "source": [
    "Download data from http://ai.stanford.edu/~amaas/data/sentiment/\n",
    "Delete the ``train/unsup`` folder."
   ]
  },
  {
   "cell_type": "markdown",
   "metadata": {},
   "source": [
    "# Sentiment analysis of movie reviews"
   ]
  },
  {
   "cell_type": "code",
   "execution_count": 10,
   "metadata": {},
   "outputs": [
    {
     "name": "stdout",
     "output_type": "stream",
     "text": [
      "type of text_train: <class 'list'>\n",
      "length of text_train: 25000\n",
      "text_train[1]:\n",
      "b'Words can\\'t describe how bad this movie is. I can\\'t explain it by writing only. You have too see it for yourself to get at grip of how horrible a movie really can be. Not that I recommend you to do that. There are so many clich\\xc3\\xa9s, mistakes (and all other negative things you can imagine) here that will just make you cry. To start with the technical first, there are a LOT of mistakes regarding the airplane. I won\\'t list them here, but just mention the coloring of the plane. They didn\\'t even manage to show an airliner in the colors of a fictional airline, but instead used a 747 painted in the original Boeing livery. Very bad. The plot is stupid and has been done many times before, only much, much better. There are so many ridiculous moments here that i lost count of it really early. Also, I was on the bad guys\\' side all the time in the movie, because the good guys were so stupid. \"Executive Decision\" should without a doubt be you\\'re choice over this one, even the \"Turbulence\"-movies are better. In fact, every other movie in the world is better than this one.'\n"
     ]
    }
   ],
   "source": [
    "from sklearn.datasets import load_files\n",
    "\n",
    "reviews_train = load_files(\"aclImdb/train/\")\n",
    "# load_files returns a bunch, containing training texts and training labels\n",
    "text_train, y_train = reviews_train.data, reviews_train.target\n",
    "print(\"type of text_train: {}\".format(type(text_train)))\n",
    "print(\"length of text_train: {}\".format(len(text_train)))\n",
    "print(\"text_train[1]:\\n{}\".format(text_train[1]))"
   ]
  },
  {
   "cell_type": "code",
   "execution_count": 11,
   "metadata": {},
   "outputs": [],
   "source": [
    "text_train = [doc.replace(b\"<br />\", b\" \") for doc in text_train]"
   ]
  },
  {
   "cell_type": "code",
   "execution_count": 12,
   "metadata": {},
   "outputs": [
    {
     "name": "stdout",
     "output_type": "stream",
     "text": [
      "Samples per class (training): [12500 12500]\n"
     ]
    }
   ],
   "source": [
    "print(\"Samples per class (training): {}\".format(np.bincount(y_train)))"
   ]
  },
  {
   "cell_type": "code",
   "execution_count": 13,
   "metadata": {},
   "outputs": [
    {
     "name": "stdout",
     "output_type": "stream",
     "text": [
      "Number of documents in test data: 25000\n",
      "Samples per class (test): [12500 12500]\n"
     ]
    }
   ],
   "source": [
    "reviews_test = load_files(\"aclImdb/test/\")\n",
    "text_test, y_test = reviews_test.data, reviews_test.target\n",
    "print(\"Number of documents in test data: {}\".format(len(text_test)))\n",
    "print(\"Samples per class (test): {}\".format(np.bincount(y_test)))\n",
    "text_test = [doc.replace(b\"<br />\", b\" \") for doc in text_test]"
   ]
  },
  {
   "cell_type": "markdown",
   "metadata": {},
   "source": [
    "### Representing text data as Bag of Words"
   ]
  },
  {
   "cell_type": "markdown",
   "metadata": {},
   "source": [
    "![bag_of_words](bag_of_words.png)"
   ]
  },
  {
   "cell_type": "markdown",
   "metadata": {},
   "source": [
    "### Task 2\n",
    "\n",
    "Use the ``CountVectorizer`` to build a vocabulary and create a bag of word representation of the training data.\n",
    "\n",
    "How big is the vocabulary?\n",
    "\n",
    "Display some of the words in the vocabulary using ``get_feature_names()``.\n",
    "What is 5 most common words?\n",
    "What is the 5 most common words with ``stop_words='english'``?"
   ]
  },
  {
   "cell_type": "code",
   "execution_count": 14,
   "metadata": {},
   "outputs": [
    {
     "name": "stdout",
     "output_type": "stream",
     "text": [
      "['00', '000', '0000000000001', '00001', '00015', '000s', '001', '003830', '006', '007', '0079', '0080', '0083', '0093638', '00am', '00pm', '00s', '01', '01pm', '02', '020410', '029', '03', '04', '041', '05', '050', '06', '06th', '07', '08', '087', '089', '08th', '09', '0f', '0ne', '0r', '0s', '10', '100', '1000', '1000000', '10000000000000', '1000lb', '1000s', '1001', '100b', '100k', '100m']\n"
     ]
    }
   ],
   "source": [
    "vect = CountVectorizer()\n",
    "vect.fit(text_train)\n",
    "X_train = vect.transform(text_train)\n",
    "X_test = vect.transform(text_test)\n",
    "feature_names = vect.get_feature_names()\n",
    "print(feature_names[:50])"
   ]
  },
  {
   "cell_type": "code",
   "execution_count": 15,
   "metadata": {},
   "outputs": [
    {
     "name": "stdout",
     "output_type": "stream",
     "text": [
      "[('êxtase', 74843), ('ís', 74844), ('ísnt', 74845), ('østbye', 74846), ('über', 74847)]\n"
     ]
    }
   ],
   "source": [
    "import operator\n",
    "sorted_vocab = sorted(vect.vocabulary_.items(), key=operator.itemgetter(1))\n",
    "print(sorted_vocab[-6:-1])"
   ]
  },
  {
   "cell_type": "code",
   "execution_count": 16,
   "metadata": {},
   "outputs": [
    {
     "name": "stdout",
     "output_type": "stream",
     "text": [
      "['00', '000', '0000000000001', '00001', '00015', '000s', '001', '003830', '006', '007', '0079', '0080', '0083', '0093638', '00am', '00pm', '00s', '01', '01pm', '02', '020410', '029', '03', '04', '041', '05', '050', '06', '06th', '07', '08', '087', '089', '08th', '09', '0f', '0ne', '0r', '0s', '10', '100', '1000', '1000000', '10000000000000', '1000lb', '1000s', '1001', '100b', '100k', '100m']\n"
     ]
    }
   ],
   "source": [
    "vect = CountVectorizer(stop_words=\"english\")\n",
    "vect.fit(text_train)\n",
    "X_train = vect.transform(text_train)\n",
    "X_test = vect.transform(text_test)\n",
    "feature_names = vect.get_feature_names()\n",
    "print(feature_names[:50])"
   ]
  },
  {
   "cell_type": "code",
   "execution_count": 17,
   "metadata": {},
   "outputs": [
    {
     "name": "stdout",
     "output_type": "stream",
     "text": [
      "[('êxtase', 74532), ('ís', 74533), ('ísnt', 74534), ('østbye', 74535), ('über', 74536)]\n"
     ]
    }
   ],
   "source": [
    "sorted_vocab = sorted(vect.vocabulary_.items(), key=operator.itemgetter(1))\n",
    "print(sorted_vocab[-6:-1])"
   ]
  },
  {
   "cell_type": "markdown",
   "metadata": {},
   "source": [
    "### Task 3\n",
    "Build a ``LogisticRegression`` model on the dataset.\n",
    "Extract the features with the largest coefficients (10 most positive and 10 most negative) and visualize them in a bar plot.\n",
    "Do these make sense?\n",
    "\n",
    "Then evaluate the model on the test set."
   ]
  },
  {
   "cell_type": "code",
   "execution_count": 29,
   "metadata": {
    "scrolled": true
   },
   "outputs": [
    {
     "data": {
      "text/plain": [
       "LogisticRegression(C=1.0, class_weight=None, dual=False, fit_intercept=True,\n",
       "          intercept_scaling=1, max_iter=100, multi_class='ovr', n_jobs=1,\n",
       "          penalty='l2', random_state=None, solver='liblinear', tol=0.0001,\n",
       "          verbose=0, warm_start=False)"
      ]
     },
     "execution_count": 29,
     "metadata": {},
     "output_type": "execute_result"
    }
   ],
   "source": [
    "from sklearn.linear_model import LogisticRegression\n",
    "vect = CountVectorizer()\n",
    "vect.fit(text_train)\n",
    "X_train = vect.transform(text_train)\n",
    "X_test = vect.transform(text_test)\n",
    "lr = LogisticRegression()\n",
    "lr.fit(X_train, y_train)"
   ]
  },
  {
   "cell_type": "code",
   "execution_count": 19,
   "metadata": {
    "scrolled": true
   },
   "outputs": [
    {
     "data": {
      "image/png": "[encoded data removed]",
      "text/plain": [
       "<Figure size 432x288 with 1 Axes>"
      ]
     },
     "metadata": {},
     "output_type": "display_data"
    }
   ],
   "source": [
    "def plot_top_bot(coef, names, n=10):\n",
    "    lrcoef_argsorted = np.argsort(coef)\n",
    "    feature_names_array = np.array(names)\n",
    "    words = []\n",
    "    values = []\n",
    "    for i in range(0,n):\n",
    "        words.append(names[lrcoef_argsorted[i]])\n",
    "        values.append(coef[lrcoef_argsorted[i]])\n",
    "\n",
    "    for i in range(-n,0):\n",
    "        words.append(names[lrcoef_argsorted[i]])\n",
    "        values.append(coef[lrcoef_argsorted[i]])\n",
    "\n",
    "    y = np.arange(n*2)\n",
    "    plt.barh(y, values)\n",
    "    plt.yticks(y, words)\n",
    "    plt.show()\n",
    "plot_top_bot(lr.coef_[0,:], vect.get_feature_names())"
   ]
  },
  {
   "cell_type": "code",
   "execution_count": 20,
   "metadata": {},
   "outputs": [
    {
     "name": "stdout",
     "output_type": "stream",
     "text": [
      "Train score = 0.998\n",
      "Test score = 0.867\n"
     ]
    }
   ],
   "source": [
    "print(\"Train score = {:.3f}\".format(lr.score(X_train, y_train)))\n",
    "print(\"Test score = {:.3f}\".format(lr.score(X_test, y_test)))"
   ]
  },
  {
   "cell_type": "markdown",
   "metadata": {},
   "source": [
    "### Task 4\n",
    "Use stop words and a minimum document frequency to limit the number of features. How does that impact the result?\n",
    "Then add bigrams."
   ]
  },
  {
   "cell_type": "code",
   "execution_count": 21,
   "metadata": {},
   "outputs": [
    {
     "data": {
      "text/plain": [
       "LogisticRegression(C=1.0, class_weight=None, dual=False, fit_intercept=True,\n",
       "          intercept_scaling=1, max_iter=100, multi_class='ovr', n_jobs=1,\n",
       "          penalty='l2', random_state=None, solver='liblinear', tol=0.0001,\n",
       "          verbose=0, warm_start=False)"
      ]
     },
     "execution_count": 21,
     "metadata": {},
     "output_type": "execute_result"
    }
   ],
   "source": [
    "# changing min_df is really sensitive\n",
    "vect = CountVectorizer(stop_words=\"english\",min_df=1)\n",
    "vect.fit(text_train)\n",
    "X_train = vect.transform(text_train)\n",
    "X_test = vect.transform(text_test)\n",
    "lr = LogisticRegression()\n",
    "lr.fit(X_train, y_train)"
   ]
  },
  {
   "cell_type": "code",
   "execution_count": 22,
   "metadata": {},
   "outputs": [
    {
     "data": {
      "image/png": "[encoded data removed]",
      "text/plain": [
       "<Figure size 432x288 with 1 Axes>"
      ]
     },
     "metadata": {},
     "output_type": "display_data"
    }
   ],
   "source": [
    "plot_top_bot(lr.coef_[0,:], vect.get_feature_names())"
   ]
  },
  {
   "cell_type": "code",
   "execution_count": 23,
   "metadata": {
    "scrolled": false
   },
   "outputs": [
    {
     "name": "stdout",
     "output_type": "stream",
     "text": [
      "0.99808\n",
      "0.86008\n"
     ]
    }
   ],
   "source": [
    "print(\"Train score = {:.3f}\".format(lr.score(X_train, y_train)))\n",
    "print(\"Test score = {:.3f}\".format(lr.score(X_test, y_test)))"
   ]
  },
  {
   "cell_type": "code",
   "execution_count": 24,
   "metadata": {},
   "outputs": [
    {
     "data": {
      "text/plain": [
       "LogisticRegression(C=1.0, class_weight=None, dual=False, fit_intercept=True,\n",
       "          intercept_scaling=1, max_iter=100, multi_class='ovr', n_jobs=1,\n",
       "          penalty='l2', random_state=None, solver='liblinear', tol=0.0001,\n",
       "          verbose=0, warm_start=False)"
      ]
     },
     "execution_count": 24,
     "metadata": {},
     "output_type": "execute_result"
    }
   ],
   "source": [
    "vect = CountVectorizer(stop_words=\"english\",ngram_range=(1,2))\n",
    "vect.fit(text_train)\n",
    "X_train = vect.transform(text_train)\n",
    "X_test = vect.transform(text_test)\n",
    "lr = LogisticRegression()\n",
    "lr.fit(X_train, y_train)"
   ]
  },
  {
   "cell_type": "code",
   "execution_count": 25,
   "metadata": {},
   "outputs": [
    {
     "data": {
      "image/png": "[encoded data removed]",
      "text/plain": [
       "<Figure size 432x288 with 1 Axes>"
      ]
     },
     "metadata": {},
     "output_type": "display_data"
    }
   ],
   "source": [
    "plot_top_bot(lr.coef_[0,:], vect.get_feature_names())"
   ]
  },
  {
   "cell_type": "code",
   "execution_count": 26,
   "metadata": {},
   "outputs": [
    {
     "name": "stdout",
     "output_type": "stream",
     "text": [
      "Train score = 1.000\n",
      "Test score = 0.882\n"
     ]
    }
   ],
   "source": [
    "print(\"Train score = {:.3f}\".format(lr.score(X_train, y_train)))\n",
    "print(\"Test score = {:.3f}\".format(lr.score(X_test, y_test)))"
   ]
  },
  {
   "cell_type": "markdown",
   "metadata": {},
   "source": [
    "### Task 5\n",
    "Use GridSearchCV to adjust the ``C`` parameter in LogisticRegression."
   ]
  },
  {
   "cell_type": "code",
   "execution_count": 38,
   "metadata": {},
   "outputs": [
    {
     "data": {
      "text/plain": [
       "GridSearchCV(cv=3, error_score='raise',\n",
       "       estimator=LogisticRegression(C=1.0, class_weight=None, dual=False, fit_intercept=True,\n",
       "          intercept_scaling=1, max_iter=100, multi_class='ovr', n_jobs=1,\n",
       "          penalty='l2', random_state=None, solver='liblinear', tol=0.0001,\n",
       "          verbose=0, warm_start=False),\n",
       "       fit_params=None, iid=True, n_jobs=1,\n",
       "       param_grid={'C': array([1.e-03, 1.e-02, 1.e-01, 1.e+00, 1.e+01, 1.e+02, 1.e+03])},\n",
       "       pre_dispatch='2*n_jobs', refit=True, return_train_score=True,\n",
       "       scoring=None, verbose=0)"
      ]
     },
     "execution_count": 38,
     "metadata": {},
     "output_type": "execute_result"
    }
   ],
   "source": [
    "from sklearn.model_selection import GridSearchCV\n",
    "vect = CountVectorizer(stop_words=\"english\")\n",
    "vect.fit(text_train)\n",
    "X_train = vect.transform(text_train)\n",
    "X_test = vect.transform(text_test)\n",
    "param_grid = {'C':  np.logspace(-3,3,7)}\n",
    "grid = GridSearchCV(LogisticRegression(), param_grid=param_grid, cv=3, return_train_score=True)\n",
    "grid.fit(X_train, y_train)"
   ]
  },
  {
   "cell_type": "code",
   "execution_count": 45,
   "metadata": {},
   "outputs": [
    {
     "name": "stdout",
     "output_type": "stream",
     "text": [
      "Best C = 0.100\n",
      "Train score = 0.972\n",
      "Test score = 0.873\n"
     ]
    }
   ],
   "source": [
    "print(\"Best C = {:.3f}\".format(grid.best_params_[\"C\"]))\n",
    "print(\"Train score = {:.3f}\".format(grid.score(X_train, y_train)))\n",
    "print(\"Test score = {:.3f}\".format(grid.score(X_test, y_test)))"
   ]
  },
  {
   "cell_type": "code",
   "execution_count": 46,
   "metadata": {},
   "outputs": [
    {
     "data": {
      "image/png": "[encoded data removed]",
      "text/plain": [
       "<Figure size 432x288 with 1 Axes>"
      ]
     },
     "metadata": {},
     "output_type": "display_data"
    }
   ],
   "source": [
    "plot_top_bot(lr.coef_[0,:], vect.get_feature_names())"
   ]
  },
  {
   "cell_type": "markdown",
   "metadata": {},
   "source": [
    "## Pipelines\n",
    "Scikit-learn has a ``Pipeline`` class that allows chaining of multiple transformations with a model. We can chain the ``CountVectorizer`` with the ``LogisticRegression`` and search over the ``C`` and the size of the n-grams at the same time\n",
    "\n",
    "### Task 6\n",
    "Complete the code below to search over whether to use unigrams or unigrams and bigrams."
   ]
  },
  {
   "cell_type": "code",
   "execution_count": 52,
   "metadata": {},
   "outputs": [
    {
     "name": "stdout",
     "output_type": "stream",
     "text": [
      "dict_keys(['cvect', 'lr'])\n",
      "{'cvect': CountVectorizer(analyzer='word', binary=False, decode_error='strict',\n",
      "        dtype=<class 'numpy.int64'>, encoding='utf-8', input='content',\n",
      "        lowercase=True, max_df=1.0, max_features=None, min_df=1,\n",
      "        ngram_range=(1, 1), preprocessor=None, stop_words='english',\n",
      "        strip_accents=None, token_pattern='(?u)\\\\b\\\\w\\\\w+\\\\b',\n",
      "        tokenizer=None, vocabulary=None), 'lr': LogisticRegression(C=1.0, class_weight=None, dual=False, fit_intercept=True,\n",
      "          intercept_scaling=1, max_iter=100, multi_class='ovr', n_jobs=1,\n",
      "          penalty='l2', random_state=None, solver='liblinear', tol=0.0001,\n",
      "          verbose=0, warm_start=False)}\n"
     ]
    }
   ],
   "source": [
    "from sklearn.pipeline import Pipeline\n",
    "pipe = Pipeline(steps=[('cvect', CountVectorizer(stop_words='english')),\n",
    "                       ('lr', LogisticRegression())])\n",
    "print(pipe.named_steps.keys())\n",
    "print(pipe.named_steps)"
   ]
  },
  {
   "cell_type": "code",
   "execution_count": 55,
   "metadata": {},
   "outputs": [
    {
     "name": "stdout",
     "output_type": "stream",
     "text": [
      "Fitting 5 folds for each of 21 candidates, totalling 105 fits\n",
      "[CV] cvect__ngram_range=(1, 1), lr__C=0.001 ..........................\n",
      "[CV] cvect__ngram_range=(1, 1), lr__C=0.001 ..........................\n",
      "[CV] cvect__ngram_range=(1, 1), lr__C=0.001 ..........................\n",
      "[CV]  cvect__ngram_range=(1, 1), lr__C=0.001, score=0.8488, total=   5.4s\n",
      "[CV] cvect__ngram_range=(1, 1), lr__C=0.001 ..........................\n",
      "[CV]  cvect__ngram_range=(1, 1), lr__C=0.001, score=0.848, total=   9.1s\n",
      "[CV] cvect__ngram_range=(1, 1), lr__C=0.001 ..........................\n",
      "[CV]  cvect__ngram_range=(1, 1), lr__C=0.001, score=0.8452, total=   9.2s\n"
     ]
    },
    {
     "name": "stderr",
     "output_type": "stream",
     "text": [
      "[Parallel(n_jobs=3)]: Done   2 tasks      | elapsed:   15.7s\n"
     ]
    },
    {
     "name": "stdout",
     "output_type": "stream",
     "text": [
      "[CV] cvect__ngram_range=(1, 1), lr__C=0.01 ...........................\n",
      "[CV]  cvect__ngram_range=(1, 1), lr__C=0.001, score=0.8408, total=   5.3s\n",
      "[CV] cvect__ngram_range=(1, 1), lr__C=0.01 ...........................\n",
      "[CV]  cvect__ngram_range=(1, 1), lr__C=0.001, score=0.846, total=   6.7s\n",
      "[CV] cvect__ngram_range=(1, 1), lr__C=0.01 ...........................\n",
      "[CV]  cvect__ngram_range=(1, 1), lr__C=0.01, score=0.8798, total=   9.5s\n",
      "[CV] cvect__ngram_range=(1, 1), lr__C=0.01 ...........................\n",
      "[CV]  cvect__ngram_range=(1, 1), lr__C=0.01, score=0.8746, total=   9.1s\n",
      "[CV] cvect__ngram_range=(1, 1), lr__C=0.01 ...........................\n"
     ]
    },
    {
     "name": "stderr",
     "output_type": "stream",
     "text": [
      "[Parallel(n_jobs=3)]: Done   7 tasks      | elapsed:   36.4s\n"
     ]
    },
    {
     "name": "stdout",
     "output_type": "stream",
     "text": [
      "[CV]  cvect__ngram_range=(1, 1), lr__C=0.01, score=0.8818, total=  10.5s\n",
      "[CV] cvect__ngram_range=(1, 1), lr__C=0.1 ............................\n",
      "[CV]  cvect__ngram_range=(1, 1), lr__C=0.01, score=0.8764, total=  11.1s\n",
      "[CV] cvect__ngram_range=(1, 1), lr__C=0.1 ............................\n",
      "[CV]  cvect__ngram_range=(1, 1), lr__C=0.01, score=0.877, total=   9.0s\n",
      "[CV] cvect__ngram_range=(1, 1), lr__C=0.1 ............................\n",
      "[CV] . cvect__ngram_range=(1, 1), lr__C=0.1, score=0.88, total=   8.9s\n",
      "[CV] cvect__ngram_range=(1, 1), lr__C=0.1 ............................\n",
      "[CV]  cvect__ngram_range=(1, 1), lr__C=0.1, score=0.8856, total=   8.5s\n",
      "[CV] cvect__ngram_range=(1, 1), lr__C=0.1 ............................\n"
     ]
    },
    {
     "name": "stderr",
     "output_type": "stream",
     "text": [
      "[Parallel(n_jobs=3)]: Done  12 tasks      | elapsed:  1.1min\n"
     ]
    },
    {
     "name": "stdout",
     "output_type": "stream",
     "text": [
      "[CV]  cvect__ngram_range=(1, 1), lr__C=0.1, score=0.8878, total=  11.9s\n",
      "[CV] cvect__ngram_range=(1, 1), lr__C=1.0 ............................\n",
      "[CV]  cvect__ngram_range=(1, 1), lr__C=0.1, score=0.8848, total=   8.6s\n",
      "[CV] cvect__ngram_range=(1, 1), lr__C=1.0 ............................\n",
      "[CV]  cvect__ngram_range=(1, 1), lr__C=0.1, score=0.8802, total=  12.1s\n",
      "[CV] cvect__ngram_range=(1, 1), lr__C=1.0 ............................\n",
      "[CV]  cvect__ngram_range=(1, 1), lr__C=1.0, score=0.8734, total=  12.7s\n",
      "[CV] cvect__ngram_range=(1, 1), lr__C=1.0 ............................\n",
      "[CV]  cvect__ngram_range=(1, 1), lr__C=1.0, score=0.877, total=  11.9s\n",
      "[CV] cvect__ngram_range=(1, 1), lr__C=1.0 ............................\n",
      "[CV]  cvect__ngram_range=(1, 1), lr__C=1.0, score=0.8808, total=  12.7s\n",
      "[CV] cvect__ngram_range=(1, 1), lr__C=10.0 ...........................\n",
      "[CV]  cvect__ngram_range=(1, 1), lr__C=1.0, score=0.8768, total=  10.4s\n",
      "[CV] cvect__ngram_range=(1, 1), lr__C=10.0 ...........................\n"
     ]
    },
    {
     "name": "stderr",
     "output_type": "stream",
     "text": [
      "[Parallel(n_jobs=3)]: Done  19 tasks      | elapsed:  1.8min\n"
     ]
    },
    {
     "name": "stdout",
     "output_type": "stream",
     "text": [
      "[CV]  cvect__ngram_range=(1, 1), lr__C=1.0, score=0.877, total=  15.2s\n",
      "[CV] cvect__ngram_range=(1, 1), lr__C=10.0 ...........................\n",
      "[CV]  cvect__ngram_range=(1, 1), lr__C=10.0, score=0.8678, total=  16.6s\n",
      "[CV] cvect__ngram_range=(1, 1), lr__C=10.0 ...........................\n",
      "[CV]  cvect__ngram_range=(1, 1), lr__C=10.0, score=0.8694, total=  19.0s\n",
      "[CV] cvect__ngram_range=(1, 1), lr__C=10.0 ...........................\n",
      "[CV]  cvect__ngram_range=(1, 1), lr__C=10.0, score=0.876, total=  17.5s\n",
      "[CV] cvect__ngram_range=(1, 1), lr__C=100.0 ..........................\n",
      "[CV]  cvect__ngram_range=(1, 1), lr__C=10.0, score=0.8694, total=  15.3s\n",
      "[CV] cvect__ngram_range=(1, 1), lr__C=100.0 ..........................\n",
      "[CV]  cvect__ngram_range=(1, 1), lr__C=10.0, score=0.8726, total=  15.5s\n",
      "[CV] cvect__ngram_range=(1, 1), lr__C=100.0 ..........................\n",
      "[CV]  cvect__ngram_range=(1, 1), lr__C=100.0, score=0.8598, total=  16.2s\n",
      "[CV] cvect__ngram_range=(1, 1), lr__C=100.0 ..........................\n"
     ]
    },
    {
     "name": "stderr",
     "output_type": "stream",
     "text": [
      "[Parallel(n_jobs=3)]: Done  26 tasks      | elapsed:  2.8min\n"
     ]
    },
    {
     "name": "stdout",
     "output_type": "stream",
     "text": [
      "[CV]  cvect__ngram_range=(1, 1), lr__C=100.0, score=0.8656, total=  15.3s\n",
      "[CV] cvect__ngram_range=(1, 1), lr__C=100.0 ..........................\n",
      "[CV]  cvect__ngram_range=(1, 1), lr__C=100.0, score=0.8692, total=  15.3s\n",
      "[CV] cvect__ngram_range=(1, 1), lr__C=1000.0 .........................\n",
      "[CV]  cvect__ngram_range=(1, 1), lr__C=100.0, score=0.8632, total=  17.7s\n",
      "[CV] cvect__ngram_range=(1, 1), lr__C=1000.0 .........................\n",
      "[CV]  cvect__ngram_range=(1, 1), lr__C=100.0, score=0.8666, total=  17.1s\n",
      "[CV] cvect__ngram_range=(1, 1), lr__C=1000.0 .........................\n",
      "[CV]  cvect__ngram_range=(1, 1), lr__C=1000.0, score=0.8522, total=  19.7s\n",
      "[CV] cvect__ngram_range=(1, 1), lr__C=1000.0 .........................\n",
      "[CV]  cvect__ngram_range=(1, 1), lr__C=1000.0, score=0.8616, total=  18.6s\n",
      "[CV] cvect__ngram_range=(1, 1), lr__C=1000.0 .........................\n",
      "[CV]  cvect__ngram_range=(1, 1), lr__C=1000.0, score=0.8632, total=  19.2s\n",
      "[CV] cvect__ngram_range=(1, 2), lr__C=0.001 ..........................\n",
      "[CV]  cvect__ngram_range=(1, 1), lr__C=1000.0, score=0.8564, total=  19.1s\n",
      "[CV] cvect__ngram_range=(1, 2), lr__C=0.001 ..........................\n",
      "[CV]  cvect__ngram_range=(1, 1), lr__C=1000.0, score=0.86, total=  18.3s\n",
      "[CV] cvect__ngram_range=(1, 2), lr__C=0.001 ..........................\n"
     ]
    },
    {
     "name": "stderr",
     "output_type": "stream",
     "text": [
      "[Parallel(n_jobs=3)]: Done  35 tasks      | elapsed:  4.1min\n"
     ]
    },
    {
     "name": "stdout",
     "output_type": "stream",
     "text": [
      "[CV]  cvect__ngram_range=(1, 2), lr__C=0.001, score=0.852, total=  50.2s\n",
      "[CV] cvect__ngram_range=(1, 2), lr__C=0.001 ..........................\n",
      "[CV]  cvect__ngram_range=(1, 2), lr__C=0.001, score=0.8492, total=  50.5s\n",
      "[CV] cvect__ngram_range=(1, 2), lr__C=0.001 ..........................\n",
      "[CV]  cvect__ngram_range=(1, 2), lr__C=0.001, score=0.8522, total=  52.6s\n",
      "[CV] cvect__ngram_range=(1, 2), lr__C=0.01 ...........................\n",
      "[CV]  cvect__ngram_range=(1, 2), lr__C=0.001, score=0.8442, total=  37.1s\n",
      "[CV] cvect__ngram_range=(1, 2), lr__C=0.01 ...........................\n",
      "[CV]  cvect__ngram_range=(1, 2), lr__C=0.001, score=0.8502, total=  38.3s\n",
      "[CV] cvect__ngram_range=(1, 2), lr__C=0.01 ...........................\n",
      "[CV]  cvect__ngram_range=(1, 2), lr__C=0.01, score=0.881, total=  46.0s\n",
      "[CV] cvect__ngram_range=(1, 2), lr__C=0.01 ...........................\n",
      "[CV]  cvect__ngram_range=(1, 2), lr__C=0.01, score=0.879, total=  44.3s\n",
      "[CV] cvect__ngram_range=(1, 2), lr__C=0.01 ...........................\n",
      "[CV]  cvect__ngram_range=(1, 2), lr__C=0.01, score=0.8848, total=  45.8s\n",
      "[CV] cvect__ngram_range=(1, 2), lr__C=0.1 ............................\n",
      "[CV]  cvect__ngram_range=(1, 2), lr__C=0.01, score=0.878, total=  46.1s\n",
      "[CV] cvect__ngram_range=(1, 2), lr__C=0.1 ............................\n"
     ]
    },
    {
     "name": "stderr",
     "output_type": "stream",
     "text": [
      "[Parallel(n_jobs=3)]: Done  44 tasks      | elapsed:  7.1min\n"
     ]
    },
    {
     "name": "stdout",
     "output_type": "stream",
     "text": [
      "[CV]  cvect__ngram_range=(1, 2), lr__C=0.01, score=0.8776, total=  43.4s\n",
      "[CV] cvect__ngram_range=(1, 2), lr__C=0.1 ............................\n",
      "[CV]  cvect__ngram_range=(1, 2), lr__C=0.1, score=0.8882, total= 1.0min\n",
      "[CV] cvect__ngram_range=(1, 2), lr__C=0.1 ............................\n",
      "[CV]  cvect__ngram_range=(1, 2), lr__C=0.1, score=0.8886, total= 1.1min\n",
      "[CV] cvect__ngram_range=(1, 2), lr__C=0.1 ............................\n",
      "[CV]  cvect__ngram_range=(1, 2), lr__C=0.1, score=0.8938, total= 1.1min\n",
      "[CV] cvect__ngram_range=(1, 2), lr__C=1.0 ............................\n",
      "[CV]  cvect__ngram_range=(1, 2), lr__C=0.1, score=0.883, total= 1.0min\n",
      "[CV] cvect__ngram_range=(1, 2), lr__C=1.0 ............................\n",
      "[CV]  cvect__ngram_range=(1, 2), lr__C=0.1, score=0.8872, total=  55.9s\n",
      "[CV] cvect__ngram_range=(1, 2), lr__C=1.0 ............................\n",
      "[CV]  cvect__ngram_range=(1, 2), lr__C=1.0, score=0.8886, total= 1.1min\n",
      "[CV] cvect__ngram_range=(1, 2), lr__C=1.0 ............................\n",
      "[CV]  cvect__ngram_range=(1, 2), lr__C=1.0, score=0.8882, total= 1.4min\n",
      "[CV] cvect__ngram_range=(1, 2), lr__C=1.0 ............................\n",
      "[CV]  cvect__ngram_range=(1, 2), lr__C=1.0, score=0.8928, total= 1.5min\n",
      "[CV] cvect__ngram_range=(1, 2), lr__C=10.0 ...........................\n",
      "[CV]  cvect__ngram_range=(1, 2), lr__C=1.0, score=0.8862, total= 1.5min\n",
      "[CV] cvect__ngram_range=(1, 2), lr__C=10.0 ...........................\n",
      "[CV]  cvect__ngram_range=(1, 2), lr__C=1.0, score=0.8866, total= 1.6min\n"
     ]
    },
    {
     "name": "stderr",
     "output_type": "stream",
     "text": [
      "[Parallel(n_jobs=3)]: Done  55 tasks      | elapsed: 12.9min\n"
     ]
    },
    {
     "name": "stdout",
     "output_type": "stream",
     "text": [
      "[CV] cvect__ngram_range=(1, 2), lr__C=10.0 ...........................\n",
      "[CV]  cvect__ngram_range=(1, 2), lr__C=10.0, score=0.8882, total= 1.8min\n",
      "[CV] cvect__ngram_range=(1, 2), lr__C=10.0 ...........................\n",
      "[CV]  cvect__ngram_range=(1, 2), lr__C=10.0, score=0.8892, total= 1.6min\n",
      "[CV] cvect__ngram_range=(1, 2), lr__C=10.0 ...........................\n",
      "[CV]  cvect__ngram_range=(1, 2), lr__C=10.0, score=0.8922, total= 1.7min\n",
      "[CV] cvect__ngram_range=(1, 2), lr__C=100.0 ..........................\n",
      "[CV]  cvect__ngram_range=(1, 2), lr__C=10.0, score=0.8876, total= 1.7min\n",
      "[CV] cvect__ngram_range=(1, 2), lr__C=100.0 ..........................\n",
      "[CV]  cvect__ngram_range=(1, 2), lr__C=10.0, score=0.8882, total= 1.4min\n",
      "[CV] cvect__ngram_range=(1, 2), lr__C=100.0 ..........................\n",
      "[CV]  cvect__ngram_range=(1, 2), lr__C=100.0, score=0.8862, total= 1.7min\n",
      "[CV] cvect__ngram_range=(1, 2), lr__C=100.0 ..........................\n",
      "[CV]  cvect__ngram_range=(1, 2), lr__C=100.0, score=0.8888, total= 1.7min\n",
      "[CV] cvect__ngram_range=(1, 2), lr__C=100.0 ..........................\n",
      "[CV]  cvect__ngram_range=(1, 2), lr__C=100.0, score=0.889, total= 1.6min\n",
      "[CV] cvect__ngram_range=(1, 2), lr__C=1000.0 .........................\n",
      "[CV]  cvect__ngram_range=(1, 2), lr__C=100.0, score=0.8874, total= 1.5min\n",
      "[CV] cvect__ngram_range=(1, 2), lr__C=1000.0 .........................\n",
      "[CV]  cvect__ngram_range=(1, 2), lr__C=100.0, score=0.8876, total= 1.7min\n",
      "[CV] cvect__ngram_range=(1, 2), lr__C=1000.0 .........................\n",
      "[CV]  cvect__ngram_range=(1, 2), lr__C=1000.0, score=0.8792, total= 1.4min\n"
     ]
    },
    {
     "name": "stderr",
     "output_type": "stream",
     "text": [
      "[Parallel(n_jobs=3)]: Done  66 tasks      | elapsed: 19.3min\n"
     ]
    },
    {
     "name": "stdout",
     "output_type": "stream",
     "text": [
      "[CV] cvect__ngram_range=(1, 2), lr__C=1000.0 .........................\n",
      "[CV]  cvect__ngram_range=(1, 2), lr__C=1000.0, score=0.8814, total= 1.3min\n",
      "[CV] cvect__ngram_range=(1, 2), lr__C=1000.0 .........................\n",
      "[CV]  cvect__ngram_range=(1, 2), lr__C=1000.0, score=0.8802, total= 1.4min\n",
      "[CV] cvect__ngram_range=(1, 3), lr__C=0.001 ..........................\n",
      "[CV]  cvect__ngram_range=(1, 2), lr__C=1000.0, score=0.8812, total= 1.3min\n",
      "[CV] cvect__ngram_range=(1, 3), lr__C=0.001 ..........................\n",
      "[CV]  cvect__ngram_range=(1, 2), lr__C=1000.0, score=0.883, total= 1.3min\n",
      "[CV] cvect__ngram_range=(1, 3), lr__C=0.001 ..........................\n",
      "[CV]  cvect__ngram_range=(1, 3), lr__C=0.001, score=0.8516, total= 1.8min\n",
      "[CV] cvect__ngram_range=(1, 3), lr__C=0.001 ..........................\n",
      "[CV]  cvect__ngram_range=(1, 3), lr__C=0.001, score=0.8492, total= 1.7min\n",
      "[CV] cvect__ngram_range=(1, 3), lr__C=0.001 ..........................\n",
      "[CV]  cvect__ngram_range=(1, 3), lr__C=0.001, score=0.8518, total= 1.7min\n",
      "[CV] cvect__ngram_range=(1, 3), lr__C=0.01 ...........................\n",
      "[CV]  cvect__ngram_range=(1, 3), lr__C=0.001, score=0.8442, total= 1.3min\n",
      "[CV] cvect__ngram_range=(1, 3), lr__C=0.01 ...........................\n",
      "[CV]  cvect__ngram_range=(1, 3), lr__C=0.001, score=0.8496, total= 1.4min\n",
      "[CV] cvect__ngram_range=(1, 3), lr__C=0.01 ...........................\n",
      "[CV] cvect__ngram_range=(1, 3), lr__C=0.01 ...........................\n",
      "[CV]  cvect__ngram_range=(1, 3), lr__C=0.01, score=0.8786, total= 1.8min\n",
      "[CV] cvect__ngram_range=(1, 3), lr__C=0.01 ...........................\n"
     ]
    },
    {
     "ename": "KeyboardInterrupt",
     "evalue": "",
     "output_type": "error",
     "traceback": [
      "\u001b[0;31m---------------------------------------------------------------------------\u001b[0m",
      "\u001b[0;31mKeyboardInterrupt\u001b[0m                         Traceback (most recent call last)",
      "\u001b[0;32m<ipython-input-55-1fb5f3791b75>\u001b[0m in \u001b[0;36m<module>\u001b[0;34m()\u001b[0m\n\u001b[1;32m      2\u001b[0m               'lr__C': np.logspace(-3,3,7)}\n\u001b[1;32m      3\u001b[0m \u001b[0mgrid\u001b[0m \u001b[0;34m=\u001b[0m \u001b[0mGridSearchCV\u001b[0m\u001b[0;34m(\u001b[0m\u001b[0mpipe\u001b[0m\u001b[0;34m,\u001b[0m \u001b[0mparam_grid\u001b[0m\u001b[0;34m,\u001b[0m \u001b[0mcv\u001b[0m\u001b[0;34m=\u001b[0m\u001b[0;36m5\u001b[0m\u001b[0;34m,\u001b[0m \u001b[0mverbose\u001b[0m\u001b[0;34m=\u001b[0m\u001b[0;36m10\u001b[0m\u001b[0;34m,\u001b[0m \u001b[0mn_jobs\u001b[0m\u001b[0;34m=\u001b[0m\u001b[0;36m3\u001b[0m\u001b[0;34m)\u001b[0m\u001b[0;34m\u001b[0m\u001b[0m\n\u001b[0;32m----> 4\u001b[0;31m \u001b[0mgrid\u001b[0m\u001b[0;34m.\u001b[0m\u001b[0mfit\u001b[0m\u001b[0;34m(\u001b[0m\u001b[0mtext_train\u001b[0m\u001b[0;34m,\u001b[0m \u001b[0my_train\u001b[0m\u001b[0;34m)\u001b[0m\u001b[0;34m\u001b[0m\u001b[0m\n\u001b[0m",
      "\u001b[0;32m/usr/lib/python3.6/site-packages/sklearn/model_selection/_search.py\u001b[0m in \u001b[0;36mfit\u001b[0;34m(self, X, y, groups, **fit_params)\u001b[0m\n\u001b[1;32m    637\u001b[0m                                   error_score=self.error_score)\n\u001b[1;32m    638\u001b[0m           for parameters, (train, test) in product(candidate_params,\n\u001b[0;32m--> 639\u001b[0;31m                                                    cv.split(X, y, groups)))\n\u001b[0m\u001b[1;32m    640\u001b[0m \u001b[0;34m\u001b[0m\u001b[0m\n\u001b[1;32m    641\u001b[0m         \u001b[0;31m# if one choose to see train score, \"out\" will contain train score info\u001b[0m\u001b[0;34m\u001b[0m\u001b[0;34m\u001b[0m\u001b[0m\n",
      "\u001b[0;32m/usr/lib/python3.6/site-packages/sklearn/externals/joblib/parallel.py\u001b[0m in \u001b[0;36m__call__\u001b[0;34m(self, iterable)\u001b[0m\n\u001b[1;32m    787\u001b[0m                 \u001b[0;31m# consumption.\u001b[0m\u001b[0;34m\u001b[0m\u001b[0;34m\u001b[0m\u001b[0m\n\u001b[1;32m    788\u001b[0m                 \u001b[0mself\u001b[0m\u001b[0;34m.\u001b[0m\u001b[0m_iterating\u001b[0m \u001b[0;34m=\u001b[0m \u001b[0;32mFalse\u001b[0m\u001b[0;34m\u001b[0m\u001b[0m\n\u001b[0;32m--> 789\u001b[0;31m             \u001b[0mself\u001b[0m\u001b[0;34m.\u001b[0m\u001b[0mretrieve\u001b[0m\u001b[0;34m(\u001b[0m\u001b[0;34m)\u001b[0m\u001b[0;34m\u001b[0m\u001b[0m\n\u001b[0m\u001b[1;32m    790\u001b[0m             \u001b[0;31m# Make sure that we get a last message telling us we are done\u001b[0m\u001b[0;34m\u001b[0m\u001b[0;34m\u001b[0m\u001b[0m\n\u001b[1;32m    791\u001b[0m             \u001b[0melapsed_time\u001b[0m \u001b[0;34m=\u001b[0m \u001b[0mtime\u001b[0m\u001b[0;34m.\u001b[0m\u001b[0mtime\u001b[0m\u001b[0;34m(\u001b[0m\u001b[0;34m)\u001b[0m \u001b[0;34m-\u001b[0m \u001b[0mself\u001b[0m\u001b[0;34m.\u001b[0m\u001b[0m_start_time\u001b[0m\u001b[0;34m\u001b[0m\u001b[0m\n",
      "\u001b[0;32m/usr/lib/python3.6/site-packages/sklearn/externals/joblib/parallel.py\u001b[0m in \u001b[0;36mretrieve\u001b[0;34m(self)\u001b[0m\n\u001b[1;32m    697\u001b[0m             \u001b[0;32mtry\u001b[0m\u001b[0;34m:\u001b[0m\u001b[0;34m\u001b[0m\u001b[0m\n\u001b[1;32m    698\u001b[0m                 \u001b[0;32mif\u001b[0m \u001b[0mgetattr\u001b[0m\u001b[0;34m(\u001b[0m\u001b[0mself\u001b[0m\u001b[0;34m.\u001b[0m\u001b[0m_backend\u001b[0m\u001b[0;34m,\u001b[0m \u001b[0;34m'supports_timeout'\u001b[0m\u001b[0;34m,\u001b[0m \u001b[0;32mFalse\u001b[0m\u001b[0;34m)\u001b[0m\u001b[0;34m:\u001b[0m\u001b[0;34m\u001b[0m\u001b[0m\n\u001b[0;32m--> 699\u001b[0;31m                     \u001b[0mself\u001b[0m\u001b[0;34m.\u001b[0m\u001b[0m_output\u001b[0m\u001b[0;34m.\u001b[0m\u001b[0mextend\u001b[0m\u001b[0;34m(\u001b[0m\u001b[0mjob\u001b[0m\u001b[0;34m.\u001b[0m\u001b[0mget\u001b[0m\u001b[0;34m(\u001b[0m\u001b[0mtimeout\u001b[0m\u001b[0;34m=\u001b[0m\u001b[0mself\u001b[0m\u001b[0;34m.\u001b[0m\u001b[0mtimeout\u001b[0m\u001b[0;34m)\u001b[0m\u001b[0;34m)\u001b[0m\u001b[0;34m\u001b[0m\u001b[0m\n\u001b[0m\u001b[1;32m    700\u001b[0m                 \u001b[0;32melse\u001b[0m\u001b[0;34m:\u001b[0m\u001b[0;34m\u001b[0m\u001b[0m\n\u001b[1;32m    701\u001b[0m                     \u001b[0mself\u001b[0m\u001b[0;34m.\u001b[0m\u001b[0m_output\u001b[0m\u001b[0;34m.\u001b[0m\u001b[0mextend\u001b[0m\u001b[0;34m(\u001b[0m\u001b[0mjob\u001b[0m\u001b[0;34m.\u001b[0m\u001b[0mget\u001b[0m\u001b[0;34m(\u001b[0m\u001b[0;34m)\u001b[0m\u001b[0;34m)\u001b[0m\u001b[0;34m\u001b[0m\u001b[0m\n",
      "\u001b[0;32m/usr/lib/python3.6/multiprocessing/pool.py\u001b[0m in \u001b[0;36mget\u001b[0;34m(self, timeout)\u001b[0m\n\u001b[1;32m    636\u001b[0m \u001b[0;34m\u001b[0m\u001b[0m\n\u001b[1;32m    637\u001b[0m     \u001b[0;32mdef\u001b[0m \u001b[0mget\u001b[0m\u001b[0;34m(\u001b[0m\u001b[0mself\u001b[0m\u001b[0;34m,\u001b[0m \u001b[0mtimeout\u001b[0m\u001b[0;34m=\u001b[0m\u001b[0;32mNone\u001b[0m\u001b[0;34m)\u001b[0m\u001b[0;34m:\u001b[0m\u001b[0;34m\u001b[0m\u001b[0m\n\u001b[0;32m--> 638\u001b[0;31m         \u001b[0mself\u001b[0m\u001b[0;34m.\u001b[0m\u001b[0mwait\u001b[0m\u001b[0;34m(\u001b[0m\u001b[0mtimeout\u001b[0m\u001b[0;34m)\u001b[0m\u001b[0;34m\u001b[0m\u001b[0m\n\u001b[0m\u001b[1;32m    639\u001b[0m         \u001b[0;32mif\u001b[0m \u001b[0;32mnot\u001b[0m \u001b[0mself\u001b[0m\u001b[0;34m.\u001b[0m\u001b[0mready\u001b[0m\u001b[0;34m(\u001b[0m\u001b[0;34m)\u001b[0m\u001b[0;34m:\u001b[0m\u001b[0;34m\u001b[0m\u001b[0m\n\u001b[1;32m    640\u001b[0m             \u001b[0;32mraise\u001b[0m \u001b[0mTimeoutError\u001b[0m\u001b[0;34m\u001b[0m\u001b[0m\n",
      "\u001b[0;32m/usr/lib/python3.6/multiprocessing/pool.py\u001b[0m in \u001b[0;36mwait\u001b[0;34m(self, timeout)\u001b[0m\n\u001b[1;32m    633\u001b[0m \u001b[0;34m\u001b[0m\u001b[0m\n\u001b[1;32m    634\u001b[0m     \u001b[0;32mdef\u001b[0m \u001b[0mwait\u001b[0m\u001b[0;34m(\u001b[0m\u001b[0mself\u001b[0m\u001b[0;34m,\u001b[0m \u001b[0mtimeout\u001b[0m\u001b[0;34m=\u001b[0m\u001b[0;32mNone\u001b[0m\u001b[0;34m)\u001b[0m\u001b[0;34m:\u001b[0m\u001b[0;34m\u001b[0m\u001b[0m\n\u001b[0;32m--> 635\u001b[0;31m         \u001b[0mself\u001b[0m\u001b[0;34m.\u001b[0m\u001b[0m_event\u001b[0m\u001b[0;34m.\u001b[0m\u001b[0mwait\u001b[0m\u001b[0;34m(\u001b[0m\u001b[0mtimeout\u001b[0m\u001b[0;34m)\u001b[0m\u001b[0;34m\u001b[0m\u001b[0m\n\u001b[0m\u001b[1;32m    636\u001b[0m \u001b[0;34m\u001b[0m\u001b[0m\n\u001b[1;32m    637\u001b[0m     \u001b[0;32mdef\u001b[0m \u001b[0mget\u001b[0m\u001b[0;34m(\u001b[0m\u001b[0mself\u001b[0m\u001b[0;34m,\u001b[0m \u001b[0mtimeout\u001b[0m\u001b[0;34m=\u001b[0m\u001b[0;32mNone\u001b[0m\u001b[0;34m)\u001b[0m\u001b[0;34m:\u001b[0m\u001b[0;34m\u001b[0m\u001b[0m\n",
      "\u001b[0;32m/usr/lib/python3.6/threading.py\u001b[0m in \u001b[0;36mwait\u001b[0;34m(self, timeout)\u001b[0m\n\u001b[1;32m    549\u001b[0m             \u001b[0msignaled\u001b[0m \u001b[0;34m=\u001b[0m \u001b[0mself\u001b[0m\u001b[0;34m.\u001b[0m\u001b[0m_flag\u001b[0m\u001b[0;34m\u001b[0m\u001b[0m\n\u001b[1;32m    550\u001b[0m             \u001b[0;32mif\u001b[0m \u001b[0;32mnot\u001b[0m \u001b[0msignaled\u001b[0m\u001b[0;34m:\u001b[0m\u001b[0;34m\u001b[0m\u001b[0m\n\u001b[0;32m--> 551\u001b[0;31m                 \u001b[0msignaled\u001b[0m \u001b[0;34m=\u001b[0m \u001b[0mself\u001b[0m\u001b[0;34m.\u001b[0m\u001b[0m_cond\u001b[0m\u001b[0;34m.\u001b[0m\u001b[0mwait\u001b[0m\u001b[0;34m(\u001b[0m\u001b[0mtimeout\u001b[0m\u001b[0;34m)\u001b[0m\u001b[0;34m\u001b[0m\u001b[0m\n\u001b[0m\u001b[1;32m    552\u001b[0m             \u001b[0;32mreturn\u001b[0m \u001b[0msignaled\u001b[0m\u001b[0;34m\u001b[0m\u001b[0m\n\u001b[1;32m    553\u001b[0m \u001b[0;34m\u001b[0m\u001b[0m\n",
      "\u001b[0;32m/usr/lib/python3.6/threading.py\u001b[0m in \u001b[0;36mwait\u001b[0;34m(self, timeout)\u001b[0m\n\u001b[1;32m    293\u001b[0m         \u001b[0;32mtry\u001b[0m\u001b[0;34m:\u001b[0m    \u001b[0;31m# restore state no matter what (e.g., KeyboardInterrupt)\u001b[0m\u001b[0;34m\u001b[0m\u001b[0m\n\u001b[1;32m    294\u001b[0m             \u001b[0;32mif\u001b[0m \u001b[0mtimeout\u001b[0m \u001b[0;32mis\u001b[0m \u001b[0;32mNone\u001b[0m\u001b[0;34m:\u001b[0m\u001b[0;34m\u001b[0m\u001b[0m\n\u001b[0;32m--> 295\u001b[0;31m                 \u001b[0mwaiter\u001b[0m\u001b[0;34m.\u001b[0m\u001b[0macquire\u001b[0m\u001b[0;34m(\u001b[0m\u001b[0;34m)\u001b[0m\u001b[0;34m\u001b[0m\u001b[0m\n\u001b[0m\u001b[1;32m    296\u001b[0m                 \u001b[0mgotit\u001b[0m \u001b[0;34m=\u001b[0m \u001b[0;32mTrue\u001b[0m\u001b[0;34m\u001b[0m\u001b[0m\n\u001b[1;32m    297\u001b[0m             \u001b[0;32melse\u001b[0m\u001b[0;34m:\u001b[0m\u001b[0;34m\u001b[0m\u001b[0m\n",
      "\u001b[0;31mKeyboardInterrupt\u001b[0m: "
     ]
    }
   ],
   "source": [
    "param_grid = {'cvect__ngram_range': [(1,1), (1,2), (1,3)],\n",
    "              'lr__C': np.logspace(-3,3,7)}\n",
    "grid = GridSearchCV(pipe, param_grid, cv=5, verbose=10, n_jobs=2)\n",
    "grid.fit(text_train, y_train)"
   ]
  },
  {
   "cell_type": "code",
   "execution_count": null,
   "metadata": {},
   "outputs": [],
   "source": [
    "# look at grid.cv_results_"
   ]
  }
 ],
 "metadata": {
  "anaconda-cloud": {},
  "kernelspec": {
   "display_name": "Python 3",
   "language": "python",
   "name": "python3"
  },
  "language_info": {
   "codemirror_mode": {
    "name": "ipython",
    "version": 3
   },
   "file_extension": ".py",
   "mimetype": "text/x-python",
   "name": "python",
   "nbconvert_exporter": "python",
   "pygments_lexer": "ipython3",
   "version": "3.6.5"
  }
 },
 "nbformat": 4,
 "nbformat_minor": 2
}
